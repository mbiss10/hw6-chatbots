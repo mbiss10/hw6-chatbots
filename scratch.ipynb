{
 "cells": [
  {
   "cell_type": "markdown",
   "id": "9155a9ad",
   "metadata": {},
   "source": [
    "# Scratch\n",
    "\n",
    "Try using a Jupyter Notebook like we've provided here as a \"scratch pad\" for developing code. \n",
    "\n",
    "You can quickly test functions as modular pieces of your larger code. "
   ]
  },
  {
   "cell_type": "code",
   "execution_count": 2,
   "id": "e61bfb99",
   "metadata": {},
   "outputs": [],
   "source": [
    "import numpy as np # add more packages if you need them "
   ]
  },
  {
   "cell_type": "code",
   "execution_count": 3,
   "id": "7f75905a",
   "metadata": {},
   "outputs": [],
   "source": [
    "from chatbot import * #imports all functions from chatbot.py\n",
    "\n",
    "# The lines below auto-reload the code you write in chatbot.py \n",
    "%load_ext autoreload\n",
    "%autoreload 2"
   ]
  },
  {
   "cell_type": "code",
   "execution_count": 4,
   "id": "be860aa2",
   "metadata": {},
   "outputs": [],
   "source": [
    "chatbot = Chatbot()"
   ]
  },
  {
   "cell_type": "code",
   "execution_count": 91,
   "id": "2144c237",
   "metadata": {},
   "outputs": [
    {
     "data": {
      "text/plain": [
       "\"What's up, I-Am-Deebee here! Let's find you a great movie. First, I need to get a sense for your taste. Tell me about a movie you've seen.\""
      ]
     },
     "execution_count": 91,
     "metadata": {},
     "output_type": "execute_result"
    }
   ],
   "source": [
    "chatbot.greeting()"
   ]
  },
  {
   "cell_type": "code",
   "execution_count": 92,
   "id": "2539a199",
   "metadata": {},
   "outputs": [
    {
     "data": {
      "text/plain": [
       "['The Notebook']"
      ]
     },
     "execution_count": 92,
     "metadata": {},
     "output_type": "execute_result"
    }
   ],
   "source": [
    "preprocessed_input = 'I liked \"The Notebook\" a lot.'\n",
    "chatbot.extract_titles(preprocessed_input)"
   ]
  },
  {
   "cell_type": "code",
   "execution_count": 93,
   "id": "9b8b7363",
   "metadata": {},
   "outputs": [],
   "source": [
    "# TODO: add more cells to create more test examples and \n",
    "# test more methods in your chatbot "
   ]
  },
  {
   "cell_type": "code",
   "execution_count": 94,
   "id": "c7e94326",
   "metadata": {},
   "outputs": [
    {
     "data": {
      "text/plain": [
       "[1359]"
      ]
     },
     "execution_count": 94,
     "metadata": {},
     "output_type": "execute_result"
    }
   ],
   "source": [
    "chatbot.find_movies_idx_by_title('Titanic')\n",
    "chatbot.find_movies_idx_by_title('Titanic (1997)')"
   ]
  },
  {
   "cell_type": "code",
   "execution_count": 95,
   "id": "771bf356",
   "metadata": {},
   "outputs": [
    {
     "data": {
      "text/plain": [
       "[2724]"
      ]
     },
     "execution_count": 95,
     "metadata": {},
     "output_type": "execute_result"
    }
   ],
   "source": [
    "chatbot.find_movies_idx_by_title('Twelve Monkeys')\n",
    "chatbot.find_movies_idx_by_title('Crimson Pirate, The')\n",
    "chatbot.find_movies_idx_by_title('The Crimson Pirate')"
   ]
  },
  {
   "cell_type": "code",
   "execution_count": 96,
   "id": "82ac37df",
   "metadata": {},
   "outputs": [
    {
     "data": {
      "text/plain": [
       "(9125, 671)"
      ]
     },
     "execution_count": 96,
     "metadata": {},
     "output_type": "execute_result"
    }
   ],
   "source": [
    "ratings_matrix = util.binarize(chatbot.ratings)\n",
    "# user_matrix = util.binarize()\n",
    "# util.recommend()\n",
    "ratings_matrix.shape"
   ]
  },
  {
   "cell_type": "code",
   "execution_count": 97,
   "id": "0b33ce06",
   "metadata": {},
   "outputs": [],
   "source": [
    "NUM_MOVIES = ratings_matrix.shape[0]\n",
    "user_reviews_matrix = np.zeros(NUM_MOVIES)"
   ]
  },
  {
   "cell_type": "code",
   "execution_count": 98,
   "id": "610758e6",
   "metadata": {},
   "outputs": [],
   "source": [
    "chatbot.user_reviews = {100: 1, 202: -1, 303: 1, 404:1, 505: 1}"
   ]
  },
  {
   "cell_type": "code",
   "execution_count": 99,
   "id": "8b8b7044",
   "metadata": {},
   "outputs": [],
   "source": [
    "for movie_idx, user_review in chatbot.user_reviews.items():\n",
    "    user_reviews_matrix[movie_idx] = user_review"
   ]
  },
  {
   "cell_type": "code",
   "execution_count": 46,
   "id": "2a8f0901",
   "metadata": {},
   "outputs": [
    {
     "data": {
      "text/plain": [
       "array([0., 0., 0., 0., 0., 1., 0., 0., 0., 0.])"
      ]
     },
     "execution_count": 46,
     "metadata": {},
     "output_type": "execute_result"
    }
   ],
   "source": [
    "user_reviews_matrix[95:105]"
   ]
  },
  {
   "cell_type": "code",
   "execution_count": 47,
   "id": "073911ef",
   "metadata": {},
   "outputs": [
    {
     "data": {
      "text/plain": [
       "'Toy Story (1995)'"
      ]
     },
     "execution_count": 47,
     "metadata": {},
     "output_type": "execute_result"
    }
   ],
   "source": [
    "chatbot.titles[0][0]"
   ]
  },
  {
   "cell_type": "code",
   "execution_count": 49,
   "id": "4705f48d",
   "metadata": {},
   "outputs": [
    {
     "data": {
      "text/plain": [
       "['Speed (1994)', 'Quest for Camelot (1998)', 'Bogus (1996)']"
      ]
     },
     "execution_count": 49,
     "metadata": {},
     "output_type": "execute_result"
    }
   ],
   "source": [
    "chatbot.recommend_movies({100: 1, 202: -1, 303: 1, 404:1, 505: 1})"
   ]
  },
  {
   "cell_type": "code",
   "execution_count": 52,
   "id": "416cbc1c",
   "metadata": {},
   "outputs": [
    {
     "data": {
      "text/plain": [
       "['Trick or Treat (1986)', 'Dunston Checks In (1996)', 'Problem Child (1990)']"
      ]
     },
     "execution_count": 52,
     "metadata": {},
     "output_type": "execute_result"
    }
   ],
   "source": [
    "user_ratings = {100: 1, 202: -1, 303: 1, 404:1, 505: 1}\n",
    "\n",
    "num_movies = chatbot.ratings.shape[0]\n",
    "\n",
    "ratings_matrix = chatbot.ratings\n",
    "\n",
    "user_rating_all_movies = np.zeros(num_movies)\n",
    "for movie_idx, user_review in user_ratings.items():\n",
    "    user_rating_all_movies[movie_idx] = user_review\n",
    "\n",
    "recs = util.recommend(user_rating_all_movies, ratings_matrix, num_return = 3)\n",
    "\n",
    "res = [chatbot.titles[rec_idx][0] for rec_idx in recs]\n",
    "\n",
    "# ['Trick or Treat (1986)', 'Dunston Checks In (1996)', 'Problem Child (1990)']\n",
    "res"
   ]
  },
  {
   "cell_type": "code",
   "execution_count": 73,
   "id": "58c1d450",
   "metadata": {},
   "outputs": [],
   "source": [
    "res = set()\n",
    "for t in chatbot.titles:\n",
    "    try:\n",
    "        loc = t[0].rindex(\",\")\n",
    "        if loc != -1:\n",
    "            next = t[0][loc+2:]\n",
    "            next = next.split(\" \")[0]\n",
    "            res.add(next)\n",
    "    except:\n",
    "        continue\n",
    "\n",
    "with open(\"./parsed_article_candidates.txt\", \"w+\") as f:\n",
    "    for word in res:\n",
    "        f.write(word + \"\\n\")\n",
    "\n"
   ]
  },
  {
   "cell_type": "code",
   "execution_count": 105,
   "id": "9470d1d9",
   "metadata": {},
   "outputs": [],
   "source": [
    "chatbot.init_titles_articles_handled()"
   ]
  },
  {
   "cell_type": "code",
   "execution_count": 7,
   "id": "2a2441d1",
   "metadata": {},
   "outputs": [
    {
     "name": "stdout",
     "output_type": "stream",
     "text": [
      "(6599, 'The Bothersome Man (Brysomme mannen, Den) (2006)')\n"
     ]
    }
   ],
   "source": [
    "for title in chatbot.titles_articles_handled:\n",
    "    if \"bothersome\" in title[1].lower():\n",
    "        print(title)"
   ]
  },
  {
   "cell_type": "code",
   "execution_count": 111,
   "id": "441699a7",
   "metadata": {},
   "outputs": [
    {
     "data": {
      "text/plain": [
       "[721]"
      ]
     },
     "execution_count": 111,
     "metadata": {},
     "output_type": "execute_result"
    }
   ],
   "source": [
    "chatbot.find_movies_idx_by_title(\"An American in Paris\")"
   ]
  },
  {
   "cell_type": "code",
   "execution_count": 114,
   "id": "c364d1ff",
   "metadata": {},
   "outputs": [
    {
     "name": "stdout",
     "output_type": "stream",
     "text": [
      "[721]\n",
      "['American in Paris, An (1951)', 'Musical|Romance']\n"
     ]
    }
   ],
   "source": [
    "print(chatbot.find_movies_idx_by_title(\"American in Paris, An (1951)\"))\n",
    "print(chatbot.titles[721])"
   ]
  },
  {
   "cell_type": "code",
   "execution_count": null,
   "id": "dc25df46",
   "metadata": {},
   "outputs": [],
   "source": []
  }
 ],
 "metadata": {
  "kernelspec": {
   "display_name": "Python 3",
   "language": "python",
   "name": "python3"
  },
  "language_info": {
   "codemirror_mode": {
    "name": "ipython",
    "version": 3
   },
   "file_extension": ".py",
   "mimetype": "text/x-python",
   "name": "python",
   "nbconvert_exporter": "python",
   "pygments_lexer": "ipython3",
   "version": "3.8.16"
  }
 },
 "nbformat": 4,
 "nbformat_minor": 5
}
